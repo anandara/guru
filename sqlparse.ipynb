{
 "cells": [
  {
   "cell_type": "code",
   "execution_count": 24,
   "metadata": {},
   "outputs": [],
   "source": [
    "import itertools\n",
    "import sqlparse\n",
    "import re\n",
    "from sqlparse.sql import IdentifierList, Identifier\n",
    "from sqlparse.tokens import Keyword, DML"
   ]
  },
  {
   "cell_type": "code",
   "execution_count": 2,
   "metadata": {},
   "outputs": [],
   "source": [
    "def is_subselect(parsed):\n",
    "    if not parsed.is_group:\n",
    "        return False\n",
    "    for item in parsed.tokens:\n",
    "        if item.ttype is DML and item.value.upper() == 'SELECT':\n",
    "            return True\n",
    "    return False"
   ]
  },
  {
   "cell_type": "code",
   "execution_count": 3,
   "metadata": {},
   "outputs": [],
   "source": [
    "def extract_from_part(parsed):\n",
    "    from_seen = False\n",
    "    for item in parsed.tokens:\n",
    "        if item.is_group:\n",
    "            for x in extract_from_part(item):\n",
    "                yield x\n",
    "        if from_seen:\n",
    "            if is_subselect(item):\n",
    "                for x in extract_from_part(item):\n",
    "                    yield x\n",
    "            elif item.ttype is Keyword and item.value.upper() in ['ORDER', 'GROUP', 'BY', 'HAVING', 'GROUP BY']:\n",
    "                from_seen = False\n",
    "                StopIteration\n",
    "            else:\n",
    "                yield item\n",
    "        if item.ttype is Keyword and item.value.upper() == 'FROM':\n",
    "            from_seen = True\n"
   ]
  },
  {
   "cell_type": "code",
   "execution_count": 4,
   "metadata": {},
   "outputs": [],
   "source": [
    "def extract_table_identifiers(token_stream):\n",
    "    for item in token_stream:\n",
    "        if isinstance(item, IdentifierList):\n",
    "            for identifier in item.get_identifiers():\n",
    "                value = identifier.value.replace('\"', '').lower()                \n",
    "                yield value\n",
    "        elif isinstance(item, Identifier):\n",
    "            value = item.value.replace('\"', '').lower()\n",
    "            yield value"
   ]
  },
  {
   "cell_type": "code",
   "execution_count": 5,
   "metadata": {},
   "outputs": [],
   "source": [
    "def extract_tables(sql):\n",
    "    # let's handle multiple statements in one sql string\n",
    "    extracted_tables = []\n",
    "    statements = list(sqlparse.parse(sql))\n",
    "    for statement in statements:\n",
    "        if statement.get_type() != 'UNKNOWN':\n",
    "            stream = extract_from_part(statement)\n",
    "            extracted_tables.append(set(list(extract_table_identifiers(stream))))\n",
    "    return list(itertools.chain(*extracted_tables))"
   ]
  },
  {
   "cell_type": "code",
   "execution_count": 30,
   "metadata": {},
   "outputs": [
    {
     "name": "stdout",
     "output_type": "stream",
     "text": [
      "Tables: test_table2, test_table1\n"
     ]
    }
   ],
   "source": [
    "sql = \"\"\"\n",
    "SELECT a.time_updated_server/1000,\n",
    "content,\n",
    "nick,\n",
    "name\n",
    "FROM table1 a\n",
    "JOIN table2 b ON a.sender_id = b.user_id\n",
    "JOIN table3 c ON a.channel_id = c.channel_id\n",
    "JOIN table4 d ON c.store_id = d.store_id\n",
    "WHERE sender_id NOT IN\n",
    "  (SELECT user_id\n",
    "   FROM table5\n",
    "   WHERE store_id IN ('agent_store:1',\n",
    "                                     'ask:1'))\n",
    "   AND to_timestamp(a.time_updated_server/1000)::date >= '2014-05-01'\n",
    "   GROUP BY 1,2,3,4\n",
    "   HAVING sum(1) > 500\n",
    "   ORDER BY 1 ASC\n",
    "    \"\"\"\n",
    "\n",
    "# remove the /* */ comments\n",
    "sql = re.sub(r\"/\\*[^*]*\\*+(?:[^*/][^*]*\\*+)*/\", \"\", sql)\n",
    "# remove whole line -- and # comments\n",
    "lines = [line for line in q.splitlines() if not re.match(\"^\\s*(--|#)\", line)]\n",
    "# remove trailing -- and # comments\n",
    "clean_query = \" \".join([re.split(\"--|#\", line)[0] for line in lines])\n",
    "# split on blanks, parens and semicolons\n",
    "tokens = re.split(r\"[\\s)(;]+\", q)\n",
    "\n",
    "tables = ', '.join(extract_tables(clean_query))\n",
    "print('Tables: {0}'.format(tables))"
   ]
  },
  {
   "cell_type": "code",
   "execution_count": 20,
   "metadata": {},
   "outputs": [
    {
     "name": "stdout",
     "output_type": "stream",
     "text": [
      "[<Newline ' ' at 0x19F770E0228>, <Whitespace ' ' at 0x19F77458E88>, <Whitespace ' ' at 0x19F77458EE8>, <Whitespace ' ' at 0x19F77458F48>, <DML 'SELECT' at 0x19F77458FA8>, <Whitespace ' ' at 0x19F77460048>, <Function 'count(...' at 0x19F77396A98>, <Whitespace ' ' at 0x19F77460228>, <Keyword 'from' at 0x19F77460288>, <Whitespace ' ' at 0x19F774602E8>, <Identifier 'test_t...' at 0x19F77396B88>, <Newline ' ' at 0x19F774603A8>, <Where 'WHERE ...' at 0x19F77396B10>]\n"
     ]
    }
   ],
   "source": [
    "ls=sqlparse.parse(sql)\n",
    "type(ls)\n",
    "for i in ls :\n",
    "    print(i.tokens)\n",
    "  "
   ]
  },
  {
   "cell_type": "code",
   "execution_count": 86,
   "metadata": {},
   "outputs": [],
   "source": [
    "def query_commentline_removal(sql_str):\n",
    "\n",
    "    # remove the /* */ comments\n",
    "    q = re.sub(r\"/\\*[^*]*\\*+(?:[^*/][^*]*\\*+)*/\", \"\", sql_str)\n",
    "\n",
    "    # remove whole line -- and # comments\n",
    "    lines = [line for line in q.splitlines() if not re.match(\"^\\s*(--|#)\", line)]\n",
    "\n",
    "    # remove trailing -- and # comments\n",
    "    q = \" \".join([re.split(\"--|#\", line)[0] for line in lines])\n",
    "\n",
    "    # scan the tokens. if we see a FROM or JOIN, we set the get_next\n",
    "    # flag, and grab the next one (unless it's SELECT).\n",
    "    \n",
    "    # split on blanks, parens and semicolons\n",
    "    tokens = re.split(r\"[\\s)(;]+\", q)\n",
    "\n",
    "    return tokens\n",
    "    "
   ]
  },
  {
   "cell_type": "code",
   "execution_count": 87,
   "metadata": {},
   "outputs": [],
   "source": [
    "def nooftablecount(tokens):\n",
    "\n",
    "    result = set()    \n",
    "    get_next = False   \n",
    "     #No.of tables \n",
    "    for tok in tokens:       \n",
    "        if get_next:\n",
    "            if tok.lower() not in [\"\", \"select\"]:\n",
    "                result.add(tok)            \n",
    "            get_next = False\n",
    "        get_next = tok.lower() in [\"from\", \"join\"]            \n",
    "    return len(result)"
   ]
  },
  {
   "cell_type": "code",
   "execution_count": 88,
   "metadata": {},
   "outputs": [],
   "source": [
    "def noofleftjoincount(tokens):\n",
    "\n",
    "    result = set()    \n",
    "    get_next = False   \n",
    "     #No.of left join \n",
    "    for tok in tokens:      \n",
    "        if get_next:\n",
    "            if tok.lower() not in [\"\", \"select\"]:\n",
    "                result.add(tok)            \n",
    "            get_next = False\n",
    "        get_next = tok.lower() in [\"left join\"]\n",
    "            \n",
    "    return len(result)"
   ]
  },
  {
   "cell_type": "code",
   "execution_count": 89,
   "metadata": {},
   "outputs": [],
   "source": [
    "def noofrightjoinecount(tokens):\n",
    " \n",
    "    result = set()    \n",
    "    get_next = False   \n",
    "     #No.of left join \n",
    "    for tok in tokens:       \n",
    "        if get_next:\n",
    "            if tok.lower() not in [\"\", \"select\"]:\n",
    "                result.add(tok)            \n",
    "            get_next = False\n",
    "        get_next = tok.lower() in [\"right join\"]\n",
    "            \n",
    "    return len(result)"
   ]
  },
  {
   "cell_type": "code",
   "execution_count": 172,
   "metadata": {},
   "outputs": [],
   "source": [
    "def noofinnerjoinecount(tokens):\n",
    "\n",
    "    result = set()    \n",
    "    get_next = False   \n",
    "     #No.of left join \n",
    "    for tok in tokens:       \n",
    "        if get_next:\n",
    "            if tok.lower() not in [\"\", \"select\"]:\n",
    "                result.add(tok)\n",
    "            \n",
    "            get_next = False\n",
    "        get_next = tok.lower() in [\"inner join\",\"join\"]\n",
    "            \n",
    "    return len(result)"
   ]
  },
  {
   "cell_type": "code",
   "execution_count": 173,
   "metadata": {},
   "outputs": [],
   "source": [
    "def noofselectcolumns(tokens):\n",
    "    result=set()\n",
    "    get_next=True\n",
    "    frompos=0\n",
    "    for position, name in enumerate(tokens):\n",
    "        if name.upper() ==\"SELECT\" :\n",
    "            selectpos=position+1   \n",
    "        \n",
    "        if name.upper() == \"FROM\":\n",
    "            frompos=position\n",
    "            break \n",
    "      \n",
    "    for i in tokens[selectpos:frompos]:\n",
    "        result.add(i)\n",
    "    \n",
    "    return len(result) "
   ]
  },
  {
   "cell_type": "code",
   "execution_count": 178,
   "metadata": {},
   "outputs": [],
   "source": [
    "def noofsubquerys(tokens):\n",
    "    result=set()\n",
    "    selectpos=[]\n",
    "    \n",
    "    for position, name in enumerate(tokens):\n",
    "        if name.upper() ==\"SELECT\" :\n",
    "            result.add(position)   \n",
    "    if  len(result)>1 :\n",
    "        return len(result)-1\n",
    "    else:\n",
    "        return 0;\n",
    "    "
   ]
  },
  {
   "cell_type": "code",
   "execution_count": 181,
   "metadata": {},
   "outputs": [],
   "source": [
    "def noofgroupbycolumncount(tokens):\n",
    "\n",
    "    result = set()    \n",
    "    get_next = False   \n",
    "     #No.of left join \n",
    "    for tok in tokens:       \n",
    "        if get_next:\n",
    "            if tok.lower() not in [\"\", \"select\"]:\n",
    "                result.add(tok)\n",
    "            \n",
    "            get_next = False\n",
    "        get_next = tok.lower() in [\"group by\"]\n",
    "            \n",
    "    return len(result)"
   ]
  },
  {
   "cell_type": "code",
   "execution_count": null,
   "metadata": {},
   "outputs": [],
   "source": []
  },
  {
   "cell_type": "code",
   "execution_count": 182,
   "metadata": {},
   "outputs": [
    {
     "data": {
      "text/plain": [
       "0"
      ]
     },
     "execution_count": 182,
     "metadata": {},
     "output_type": "execute_result"
    }
   ],
   "source": [
    "token=query_commentline_removal(sql)\n",
    "noofgroupbycolumncount(token)"
   ]
  },
  {
   "cell_type": "code",
   "execution_count": null,
   "metadata": {},
   "outputs": [],
   "source": []
  },
  {
   "cell_type": "code",
   "execution_count": 180,
   "metadata": {},
   "outputs": [
    {
     "name": "stdout",
     "output_type": "stream",
     "text": [
      "5\n",
      "0\n",
      "0\n",
      "3\n",
      "4\n",
      "1\n"
     ]
    }
   ],
   "source": [
    "token=query_commentline_removal(sql)\n",
    "tablecount=nooftablecount(token)\n",
    "leftjoincount=noofleftjoincount(token)\n",
    "rightjoinecount=noofrightjoinecount(token)\n",
    "innerjoinecount=noofinnerjoinecount(token)\n",
    "selectcolumncount=noofselectcolumns(token)\n",
    "noofsubquerycount=noofsubquerys(token)\n",
    "print(tablecount)\n",
    "print(leftjoincount)\n",
    "print(rightjoinecount)\n",
    "print(innerjoinecount)\n",
    "print(selectcolumncount)\n",
    "print(noofsubquerycount)\n"
   ]
  },
  {
   "cell_type": "code",
   "execution_count": null,
   "metadata": {},
   "outputs": [],
   "source": []
  },
  {
   "cell_type": "code",
   "execution_count": null,
   "metadata": {},
   "outputs": [],
   "source": []
  },
  {
   "cell_type": "code",
   "execution_count": null,
   "metadata": {},
   "outputs": [],
   "source": []
  }
 ],
 "metadata": {
  "kernelspec": {
   "display_name": "Python 3",
   "language": "python",
   "name": "python3"
  },
  "language_info": {
   "codemirror_mode": {
    "name": "ipython",
    "version": 3
   },
   "file_extension": ".py",
   "mimetype": "text/x-python",
   "name": "python",
   "nbconvert_exporter": "python",
   "pygments_lexer": "ipython3",
   "version": "3.7.3"
  }
 },
 "nbformat": 4,
 "nbformat_minor": 2
}
